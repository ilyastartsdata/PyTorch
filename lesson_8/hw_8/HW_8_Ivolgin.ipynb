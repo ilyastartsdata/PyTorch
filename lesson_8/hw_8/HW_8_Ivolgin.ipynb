{
  "cells": [
    {
      "cell_type": "markdown",
      "metadata": {
        "id": "1OGshoXXW3Y9"
      },
      "source": [
        "#HW 8"
      ]
    },
    {
      "cell_type": "markdown",
      "metadata": {
        "id": "AbaURGXmUTEO"
      },
      "source": [
        "## Домашнее задание\n",
        "1. Обучить генератор создавать точки, которые будут лежать на графике функции \n",
        " $$y = \\frac{sin(x)}{x} - \\frac{x}{10}$$\n",
        "При выполнении данного задания структура GAN остается той же, но Вам нужно:\n",
        "- Сгенерировать настоящие данные\n",
        "- Изменить архитектуру дискриминатора и генератора\n",
        "- Построить графики"
      ]
    },
    {
      "cell_type": "markdown",
      "source": [
        "---"
      ],
      "metadata": {
        "id": "bPOfqYJuAfDk"
      }
    },
    {
      "cell_type": "code",
      "source": [
        "# Загрузка библиотек\n",
        "\n",
        "import pandas as pd\n",
        "import numpy as np\n",
        "\n",
        "import torch\n",
        "import torch.nn as nn\n",
        "from torch.autograd import Variable\n",
        "from torch.utils.data import DataLoader, Dataset\n",
        "\n",
        "import matplotlib.pyplot as plt\n",
        "import matplotlib.patches as mpatches\n",
        "from IPython import display"
      ],
      "metadata": {
        "id": "zs1azfZBAgOB"
      },
      "execution_count": 1,
      "outputs": []
    },
    {
      "cell_type": "code",
      "source": [
        "device = 'cpu'\n",
        "#device = 'cuda' if torch.cuda.is_available() else 'cpu'\n",
        "device"
      ],
      "metadata": {
        "colab": {
          "base_uri": "https://localhost:8080/",
          "height": 36
        },
        "id": "UutstzxUAk6R",
        "outputId": "1141788f-ad99-4d2f-a58f-2481832af0b4"
      },
      "execution_count": 2,
      "outputs": [
        {
          "output_type": "execute_result",
          "data": {
            "text/plain": [
              "'cpu'"
            ],
            "application/vnd.google.colaboratory.intrinsic+json": {
              "type": "string"
            }
          },
          "metadata": {},
          "execution_count": 2
        }
      ]
    },
    {
      "cell_type": "markdown",
      "source": [
        "---"
      ],
      "metadata": {
        "id": "UJPg8J6nA5aU"
      }
    },
    {
      "cell_type": "code",
      "source": [
        "# Создание df\n",
        "\n",
        "df = pd.DataFrame(np.linspace(-20, 20, 10000), columns=['x'])\n",
        "df['y'] = np.sin(df['x']) / df['x'] - (df['x'] / 10)\n",
        "df.head()"
      ],
      "metadata": {
        "colab": {
          "base_uri": "https://localhost:8080/",
          "height": 206
        },
        "id": "_WSG8bFAA6Qy",
        "outputId": "87b63c37-96c9-4fa1-d976-6f6e5800b809"
      },
      "execution_count": 3,
      "outputs": [
        {
          "output_type": "execute_result",
          "data": {
            "text/plain": [
              "           x         y\n",
              "0 -20.000000  2.045647\n",
              "1 -19.996000  2.045174\n",
              "2 -19.991999  2.044701\n",
              "3 -19.987999  2.044226\n",
              "4 -19.983998  2.043751"
            ],
            "text/html": [
              "\n",
              "  <div id=\"df-2b8ab6d3-5a66-4b93-8604-dc3d54a8d0b0\">\n",
              "    <div class=\"colab-df-container\">\n",
              "      <div>\n",
              "<style scoped>\n",
              "    .dataframe tbody tr th:only-of-type {\n",
              "        vertical-align: middle;\n",
              "    }\n",
              "\n",
              "    .dataframe tbody tr th {\n",
              "        vertical-align: top;\n",
              "    }\n",
              "\n",
              "    .dataframe thead th {\n",
              "        text-align: right;\n",
              "    }\n",
              "</style>\n",
              "<table border=\"1\" class=\"dataframe\">\n",
              "  <thead>\n",
              "    <tr style=\"text-align: right;\">\n",
              "      <th></th>\n",
              "      <th>x</th>\n",
              "      <th>y</th>\n",
              "    </tr>\n",
              "  </thead>\n",
              "  <tbody>\n",
              "    <tr>\n",
              "      <th>0</th>\n",
              "      <td>-20.000000</td>\n",
              "      <td>2.045647</td>\n",
              "    </tr>\n",
              "    <tr>\n",
              "      <th>1</th>\n",
              "      <td>-19.996000</td>\n",
              "      <td>2.045174</td>\n",
              "    </tr>\n",
              "    <tr>\n",
              "      <th>2</th>\n",
              "      <td>-19.991999</td>\n",
              "      <td>2.044701</td>\n",
              "    </tr>\n",
              "    <tr>\n",
              "      <th>3</th>\n",
              "      <td>-19.987999</td>\n",
              "      <td>2.044226</td>\n",
              "    </tr>\n",
              "    <tr>\n",
              "      <th>4</th>\n",
              "      <td>-19.983998</td>\n",
              "      <td>2.043751</td>\n",
              "    </tr>\n",
              "  </tbody>\n",
              "</table>\n",
              "</div>\n",
              "      <button class=\"colab-df-convert\" onclick=\"convertToInteractive('df-2b8ab6d3-5a66-4b93-8604-dc3d54a8d0b0')\"\n",
              "              title=\"Convert this dataframe to an interactive table.\"\n",
              "              style=\"display:none;\">\n",
              "        \n",
              "  <svg xmlns=\"http://www.w3.org/2000/svg\" height=\"24px\"viewBox=\"0 0 24 24\"\n",
              "       width=\"24px\">\n",
              "    <path d=\"M0 0h24v24H0V0z\" fill=\"none\"/>\n",
              "    <path d=\"M18.56 5.44l.94 2.06.94-2.06 2.06-.94-2.06-.94-.94-2.06-.94 2.06-2.06.94zm-11 1L8.5 8.5l.94-2.06 2.06-.94-2.06-.94L8.5 2.5l-.94 2.06-2.06.94zm10 10l.94 2.06.94-2.06 2.06-.94-2.06-.94-.94-2.06-.94 2.06-2.06.94z\"/><path d=\"M17.41 7.96l-1.37-1.37c-.4-.4-.92-.59-1.43-.59-.52 0-1.04.2-1.43.59L10.3 9.45l-7.72 7.72c-.78.78-.78 2.05 0 2.83L4 21.41c.39.39.9.59 1.41.59.51 0 1.02-.2 1.41-.59l7.78-7.78 2.81-2.81c.8-.78.8-2.07 0-2.86zM5.41 20L4 18.59l7.72-7.72 1.47 1.35L5.41 20z\"/>\n",
              "  </svg>\n",
              "      </button>\n",
              "      \n",
              "  <style>\n",
              "    .colab-df-container {\n",
              "      display:flex;\n",
              "      flex-wrap:wrap;\n",
              "      gap: 12px;\n",
              "    }\n",
              "\n",
              "    .colab-df-convert {\n",
              "      background-color: #E8F0FE;\n",
              "      border: none;\n",
              "      border-radius: 50%;\n",
              "      cursor: pointer;\n",
              "      display: none;\n",
              "      fill: #1967D2;\n",
              "      height: 32px;\n",
              "      padding: 0 0 0 0;\n",
              "      width: 32px;\n",
              "    }\n",
              "\n",
              "    .colab-df-convert:hover {\n",
              "      background-color: #E2EBFA;\n",
              "      box-shadow: 0px 1px 2px rgba(60, 64, 67, 0.3), 0px 1px 3px 1px rgba(60, 64, 67, 0.15);\n",
              "      fill: #174EA6;\n",
              "    }\n",
              "\n",
              "    [theme=dark] .colab-df-convert {\n",
              "      background-color: #3B4455;\n",
              "      fill: #D2E3FC;\n",
              "    }\n",
              "\n",
              "    [theme=dark] .colab-df-convert:hover {\n",
              "      background-color: #434B5C;\n",
              "      box-shadow: 0px 1px 3px 1px rgba(0, 0, 0, 0.15);\n",
              "      filter: drop-shadow(0px 1px 2px rgba(0, 0, 0, 0.3));\n",
              "      fill: #FFFFFF;\n",
              "    }\n",
              "  </style>\n",
              "\n",
              "      <script>\n",
              "        const buttonEl =\n",
              "          document.querySelector('#df-2b8ab6d3-5a66-4b93-8604-dc3d54a8d0b0 button.colab-df-convert');\n",
              "        buttonEl.style.display =\n",
              "          google.colab.kernel.accessAllowed ? 'block' : 'none';\n",
              "\n",
              "        async function convertToInteractive(key) {\n",
              "          const element = document.querySelector('#df-2b8ab6d3-5a66-4b93-8604-dc3d54a8d0b0');\n",
              "          const dataTable =\n",
              "            await google.colab.kernel.invokeFunction('convertToInteractive',\n",
              "                                                     [key], {});\n",
              "          if (!dataTable) return;\n",
              "\n",
              "          const docLinkHtml = 'Like what you see? Visit the ' +\n",
              "            '<a target=\"_blank\" href=https://colab.research.google.com/notebooks/data_table.ipynb>data table notebook</a>'\n",
              "            + ' to learn more about interactive tables.';\n",
              "          element.innerHTML = '';\n",
              "          dataTable['output_type'] = 'display_data';\n",
              "          await google.colab.output.renderOutput(dataTable, element);\n",
              "          const docLink = document.createElement('div');\n",
              "          docLink.innerHTML = docLinkHtml;\n",
              "          element.appendChild(docLink);\n",
              "        }\n",
              "      </script>\n",
              "    </div>\n",
              "  </div>\n",
              "  "
            ]
          },
          "metadata": {},
          "execution_count": 3
        }
      ]
    },
    {
      "cell_type": "code",
      "source": [
        "# df plt\n",
        "\n",
        "plt.plot(df['x'], df['y'])\n",
        "plt.show()"
      ],
      "metadata": {
        "colab": {
          "base_uri": "https://localhost:8080/",
          "height": 265
        },
        "id": "QWMpTQ9lA-DY",
        "outputId": "df3436f5-33f5-4e9b-e50f-5bfd3a8b3753"
      },
      "execution_count": 4,
      "outputs": [
        {
          "output_type": "display_data",
          "data": {
            "text/plain": [
              "<Figure size 432x288 with 1 Axes>"
            ],
            "image/png": "[encoded data removed]"
          },
          "metadata": {
            "needs_background": "light"
          }
        }
      ]
    },
    {
      "cell_type": "code",
      "source": [
        "# Создание модели\n",
        "\n",
        "# Class Generator\n",
        "\n",
        "class Generator(nn.Module):\n",
        "    def __init__(self):\n",
        "        super().__init__()\n",
        "        \n",
        "        # Использование таких словарей позволяет нам варьировать\n",
        "        # параметры нашей сети в процессе использования\n",
        "        self.activations = nn.ModuleDict([\n",
        "            ['lrelu', nn.LeakyReLU(0.2, inplace=True)],\n",
        "            ['relu', nn.ReLU()]\n",
        "        ])\n",
        "        # метод для построения блоков задач, активацию подтягиваем из словаря выше\n",
        "        def block(in_feat, out_feat, normalize=True, activation='relu'):\n",
        "            layers = [nn.Linear(in_feat, out_feat)]  \n",
        "            # Если мы создаем последовательность слоев - то мы задаем их\n",
        "                                                     # с помощью списка.\n",
        "            if normalize:\n",
        "                layers.append(nn.BatchNorm1d(out_feat))\n",
        "            layers.append(self.activations[activation])  # Эта строчка означает \n",
        "            # тоже самое что и layers.append(nn.LeakyReLU(0.2, inplace=True))\n",
        "            \n",
        "            return layers\n",
        "\n",
        "        self.model = nn.Sequential(\n",
        "            # Звездочка означает unpacking списка\n",
        "            *block(latent_dim, 128, normalize=False), \n",
        "            *block(128, 256, activation='lrelu'),\n",
        "            *block(256, 512),\n",
        "            *block(512, 1024),\n",
        "            nn.Linear(1024, 2),\n",
        "        )\n",
        "        \n",
        "    # при форварде прогоняем данные через модель\n",
        "    def forward(self, z):\n",
        "        num = self.model(z)\n",
        "        # растягиваем то, что выходит в размер картинки\n",
        "        #img = img.reshape(-1, *img_shape)\n",
        "        return num\n",
        "\n",
        "# Class CustomLinearLayer\n",
        "\n",
        "class CustomLinearLayer(nn.Module):\n",
        "    def __init__(self, size_in, size_out):\n",
        "        # забираем все методы\n",
        "        super().__init__()\n",
        "        # инициализируем веса\n",
        "        self.size_in, self.size_out = size_in, size_out\n",
        "        \n",
        "        weights = torch.Tensor(size_out, size_in)\n",
        "        # в PyTorch если объект имеет класс параметров, то он обучаемый,\n",
        "        # т.е. через него будут прогоняться градиенты\n",
        "        self.weights = nn.Parameter(weights) \n",
        "\n",
        "        # подготавливаем переменные для сдвига bias\n",
        "        bias = torch.Tensor(size_out)\n",
        "        self.bias = nn.Parameter(bias)\n",
        "        \n",
        "        # инициализируем веса и смещения (байесы) близкими к нулю значениями\n",
        "        # в данном примере если поставить -0,005 и 0,005, обучается дольше и хуже\n",
        "        nn.init.uniform_(self.weights, -0.5, 0.5) \n",
        "        nn.init.uniform_(self.bias, -0.5, 0.5)  \n",
        "\n",
        "    def forward(self, x):\n",
        "        # По формуле линейного слоя, нам нужно умножить наши данные \n",
        "        # на транспонированные веса и добавить смещение\n",
        "        w_times_x = torch.mm(x, self.weights.t())\n",
        "        return torch.add(w_times_x, self.bias)\n",
        "\n",
        "# Class Discriminator\n",
        "\n",
        "class Discriminator(nn.Module):\n",
        "    def __init__(self):\n",
        "        super().__init__()\n",
        "\n",
        "        # на входе размерность, на выходе классфицируем правда/ложь\n",
        "        self.model = nn.Sequential(\n",
        "            CustomLinearLayer(2, 512),\n",
        "            nn.LeakyReLU(0.2, inplace=True),\n",
        "            CustomLinearLayer(512, 256),\n",
        "            nn.LeakyReLU(0.2, inplace=True),\n",
        "            CustomLinearLayer(256, 1),\n",
        "            nn.Sigmoid(),\n",
        "        )\n",
        "\n",
        "    def forward(self, pred):\n",
        "        validity = self.model(pred)\n",
        "        # принимаем объект, резайзим, чтобы она стала вектором, а не 2D объектом\n",
        "        #img_flat = img.reshape(img.size(0), -1)\n",
        "        # получаем класс ложь/истина\n",
        "        return validity"
      ],
      "metadata": {
        "id": "uvfcJ_8lBE9W"
      },
      "execution_count": 5,
      "outputs": []
    },
    {
      "cell_type": "code",
      "source": [
        "# Генерация данных\n",
        "\n",
        "n_epochs = 100\n",
        "batch_size = 32\n",
        "lr = 0.0005\n",
        "\n",
        "b1 = 0.5\n",
        "b2 = 0.999\n",
        "\n",
        "latent_dim = 1000\n",
        "\n",
        "sample_interval = 100\n",
        "\n",
        "# df в массив\n",
        "\n",
        "real_data = torch.utils.data.DataLoader(\n",
        "    df.to_numpy(), # to_numpy()\n",
        "    batch_size=batch_size,\n",
        "    shuffle=True)\n",
        "\n",
        "real_data"
      ],
      "metadata": {
        "colab": {
          "base_uri": "https://localhost:8080/"
        },
        "id": "OFtunz-PBjVr",
        "outputId": "37189b87-7c04-48be-9858-24f887708ce8"
      },
      "execution_count": 6,
      "outputs": [
        {
          "output_type": "execute_result",
          "data": {
            "text/plain": [
              "<torch.utils.data.dataloader.DataLoader at 0x7ff238a8ae10>"
            ]
          },
          "metadata": {},
          "execution_count": 6
        }
      ]
    },
    {
      "cell_type": "code",
      "source": [
        "# Generator, Discriminator\n",
        "\n",
        "generator = Generator().to(device)\n",
        "discriminator = Discriminator().to(device)\n",
        "\n",
        "# Для каждой нейронки свой опитимизатор\n",
        "optimizer_G = torch.optim.Adam(\n",
        "    generator.parameters(), \n",
        "    lr=lr, \n",
        "    betas=(b1, b2)\n",
        ")\n",
        "optimizer_D = torch.optim.Adam(\n",
        "    discriminator.parameters(), \n",
        "    lr=lr, \n",
        "    betas=(b1, b2)\n",
        ")\n",
        "\n",
        "# Но вот функция ошибки у нас будет одна общая\n",
        "adversarial_loss = torch.nn.BCELoss()\n",
        "\n",
        "red_patch = mpatches.Patch(color='red', label='D loss')\n",
        "green_patch = mpatches.Patch(color='green', label='G loss')"
      ],
      "metadata": {
        "id": "8cFHttrlCVP5"
      },
      "execution_count": 7,
      "outputs": []
    },
    {
      "cell_type": "code",
      "source": [
        "# Cписки для лоссов генератора и дискриминатора\n",
        "d_loss_history = []\n",
        "g_loss_history = []\n",
        "\n",
        "for epoch in range(n_epochs):\n",
        "    for i, data in enumerate(real_data):\n",
        "        \n",
        "        cur_batch_size = len(data)\n",
        "\n",
        "##################### Лейблы для данных: 1 - настоящие, 0 - сгенерированные ########\n",
        "        # valid = Variable(torch.FloatTensor(cur_batch_size, 1).fill_(1.0), requires_grad=False).to(device)\n",
        "        # fake = Variable(torch.FloatTensor(cur_batch_size, 1).fill_(0.0), requires_grad=False).to(device)\n",
        "\n",
        "        # истинные значения\n",
        "        valid = torch.FloatTensor(cur_batch_size, 1).fill_(1.0).to(device)\n",
        "        # ложные значения\n",
        "        fake = torch.FloatTensor(cur_batch_size, 1).fill_(0.0).to(device)\n",
        "\n",
        "        # генерация шума (нормальное распределение тут не подойдёт)\n",
        "        z = Variable(torch.FloatTensor(np.random.uniform(-50, 50, (cur_batch_size, latent_dim)))).to(device)\n",
        "        \n",
        "        # реальные значения перекладываем на устройство\n",
        "        real_ex = Variable(data.type(torch.FloatTensor)).to(device)\n",
        "\n",
        "        # Генерируем данные Генератором на основе шума\n",
        "        gen_data = generator(z)\n",
        "\n",
        "\n",
        "######################  Тренировка дискриминатора    ##########################\n",
        "\n",
        "        # Получаем предсказания дискриминатора на основе реальных данных\n",
        "        real_pred = discriminator(real_ex)\n",
        "\n",
        "        # Тут сравниваем предсказанные значения Дискриминатора(на основе настоящих данных) с настоящими\n",
        "        # получаем бинарную кросс-энтропию\n",
        "        d_real_loss = adversarial_loss(real_pred, valid)\n",
        "        \n",
        "        # Подаем сгенерированые данные на Дискриминатор\n",
        "        fake_pred = discriminator(gen_data.detach())\n",
        "        \n",
        "        # расчитываем ошибку предсказанного с фейковыми лейблами\n",
        "        d_fake_loss = adversarial_loss(fake_pred, fake)\n",
        "        \n",
        "        # И усредняем два лосса в один\n",
        "        d_loss = (d_real_loss + d_fake_loss) / 2\n",
        "\n",
        "        # обновляем градиенты\n",
        "        optimizer_D.zero_grad()\n",
        "        \n",
        "        # подсчёт градиентов\n",
        "        d_loss.backward()\n",
        "        \n",
        "        # шаг оптимизации\n",
        "        optimizer_D.step()\n",
        "        \n",
        "######################  Тренировка генератора    ##########################\n",
        "\n",
        "        # Подаем сгенерированые данные на Дискриминатор \n",
        "        fake_pred = discriminator(gen_data)\n",
        "        \n",
        "        # Тут сравниваем предсказанные значения Дискриминатора \n",
        "        # (на основе сгенерировнных данных) с настоящими\n",
        "        g_loss = adversarial_loss(fake_pred, valid)\n",
        "        \n",
        "        # Делаем шаг обучения нашего Генератора\n",
        "        optimizer_G.zero_grad()\n",
        "        g_loss.backward()\n",
        "        optimizer_G.step()\n",
        "        \n",
        "######## Отображение процесса обучения и вывод функций потерь ############\n",
        "        batches_done = epoch * len(real_data) + i\n",
        "    \n",
        "        if batches_done % sample_interval == 0:\n",
        "            plt.clf()\n",
        "            \n",
        "            display.clear_output(wait=False)\n",
        "            print(\"[Epoch %d/%d] [Batch %d/%d] [D loss: %f] [G loss: %f]\"% (epoch, n_epochs, i, len(real_data), d_loss.item(), g_loss.item()) ) \n",
        "\n",
        "            display.display(plt.gcf())\n",
        "\n",
        "            # d_loss и g_loss - тензоры, чтобы поместить их в список,\n",
        "            # извлекаются без граадиента методом detach()\n",
        "            d_loss_history.append(d_loss.detach().numpy())\n",
        "            g_loss_history.append(g_loss.detach().numpy())\n",
        "            \n",
        "            plt.plot(np.log(np.array(d_loss_history)), label='D loss', color = 'red')\n",
        "            plt.plot(np.log(np.array(g_loss_history)), label='G loss', color = 'green')\n",
        "\n",
        "            plt.legend(handles=[red_patch, green_patch])\n",
        "            plt.show()"
      ],
      "metadata": {
        "colab": {
          "base_uri": "https://localhost:8080/",
          "height": 302
        },
        "id": "ZQ-n6H3ACn31",
        "outputId": "8929b54f-7a36-4ebe-97d3-7a9f826312c4"
      },
      "execution_count": 8,
      "outputs": [
        {
          "output_type": "stream",
          "name": "stdout",
          "text": [
            "[Epoch 99/100] [Batch 213/313] [D loss: 0.718576] [G loss: 0.863910]\n"
          ]
        },
        {
          "output_type": "display_data",
          "data": {
            "text/plain": [
              "<Figure size 432x288 with 0 Axes>"
            ]
          },
          "metadata": {}
        },
        {
          "output_type": "display_data",
          "data": {
            "text/plain": [
              "<Figure size 432x288 with 1 Axes>"
            ],
            "image/png": "[encoded data removed]"
          },
          "metadata": {
            "needs_background": "light"
          }
        }
      ]
    },
    {
      "cell_type": "code",
      "source": [
        "generator.eval()\n",
        "\n",
        "# генерируем тестовый тензор\n",
        "test_z = Variable(torch.from_numpy(np.random.uniform(-40, 35, (100, latent_dim)).astype(np.float64)).float()).to(device)\n",
        "\n",
        "with torch.no_grad():\n",
        "    test_pred = generator(test_z)"
      ],
      "metadata": {
        "id": "X0IhA4ATCqhM"
      },
      "execution_count": 9,
      "outputs": []
    },
    {
      "cell_type": "code",
      "source": [
        "nt = 0\n",
        "error = 0.0\n",
        "count = 0\n",
        "for i in range(len(test_pred)):\n",
        "    x = test_pred[i][0]\n",
        "    y_real = (np.sin(x) / x) - (x / 10) \n",
        "    y_pred = test_pred[i][1]  \n",
        "    count +=1\n",
        "    error += abs(y_real - y_pred)\n",
        "\n",
        "print(\"Mean error: %.10f\" % (error/count))"
      ],
      "metadata": {
        "colab": {
          "base_uri": "https://localhost:8080/"
        },
        "id": "QHWvNRPhC_9R",
        "outputId": "a7b75a87-8eef-420d-e648-fc684258f6a1"
      },
      "execution_count": 10,
      "outputs": [
        {
          "output_type": "stream",
          "name": "stdout",
          "text": [
            "Mean error: 0.0603128113\n"
          ]
        }
      ]
    },
    {
      "cell_type": "code",
      "source": [
        "plt.figure()\n",
        "\n",
        "x = np.linspace(-25, 25, 1000)\n",
        "plt.plot(x, ((np.sin(x) / x) - (x / 10) ), label='y', color = 'red')\n",
        "\n",
        "p = test_pred[:,0].argsort()\n",
        "plt.plot(test_pred[:,0][p], test_pred[:, 1][p], label='y pred', color = 'green')\n",
        "\n",
        "plt.legend()\n",
        "plt.show()"
      ],
      "metadata": {
        "colab": {
          "base_uri": "https://localhost:8080/",
          "height": 265
        },
        "id": "Jfn868LdDBZU",
        "outputId": "950c836e-e493-4790-fa5f-fd9da0fe12f5"
      },
      "execution_count": 11,
      "outputs": [
        {
          "output_type": "display_data",
          "data": {
            "text/plain": [
              "<Figure size 432x288 with 1 Axes>"
            ],
            "image/png": "[encoded data removed]"
          },
          "metadata": {
            "needs_background": "light"
          }
        }
      ]
    }
  ],
  "metadata": {
    "accelerator": "GPU",
    "colab": {
      "collapsed_sections": [],
      "name": "HW_8_Ivolgin.ipynb",
      "provenance": []
    },
    "kernelspec": {
      "display_name": "Python 3",
      "language": "python",
      "name": "python3"
    },
    "language_info": {
      "codemirror_mode": {
        "name": "ipython",
        "version": 3
      },
      "file_extension": ".py",
      "mimetype": "text/x-python",
      "name": "python",
      "nbconvert_exporter": "python",
      "pygments_lexer": "ipython3",
      "version": "3.8.5"
    }
  },
  "nbformat": 4,
  "nbformat_minor": 0
}