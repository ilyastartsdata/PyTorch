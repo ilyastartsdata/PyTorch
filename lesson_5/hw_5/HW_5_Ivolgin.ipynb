{
  "nbformat": 4,
  "nbformat_minor": 0,
  "metadata": {
    "kernelspec": {
      "display_name": "Python 3",
      "language": "python",
      "name": "python3"
    },
    "language_info": {
      "codemirror_mode": {
        "name": "ipython",
        "version": 3
      },
      "file_extension": ".py",
      "mimetype": "text/x-python",
      "name": "python",
      "nbconvert_exporter": "python",
      "pygments_lexer": "ipython3",
      "version": "3.8.5"
    },
    "colab": {
      "name": "HW_5_Ivolgin.ipynb",
      "provenance": [],
      "collapsed_sections": []
    }
  },
  "cells": [
    {
      "cell_type": "markdown",
      "metadata": {
        "id": "u1WAmYi7REeJ"
      },
      "source": [
        "#HW 5"
      ]
    },
    {
      "cell_type": "markdown",
      "metadata": {
        "id": "R24tahEqmSCk"
      },
      "source": [
        "## Домашнее задание\n",
        "\n",
        "1. Необходимо подготовить датасет https://www.kaggle.com/olekslu/makeup-lips-segmentation-28k-samples для обучения модели на сегментацию губ\n",
        "2. Обучить модель на выбор из [segmentation_models_pytorch](https://segmentation-modelspytorch.readthedocs.io/en/latest/index.html)\n"
      ]
    },
    {
      "cell_type": "markdown",
      "source": [
        "---"
      ],
      "metadata": {
        "id": "g3XRSnBXSuaH"
      }
    },
    {
      "cell_type": "code",
      "source": [
        "# Загрузка библиотек\n",
        "\n",
        "import numpy as np\n",
        "import pandas as pd\n",
        "import os\n",
        "import cv2\n",
        "import matplotlib.pyplot as plt\n",
        "import torch\n",
        "from torch import nn\n",
        "from torch.utils.data import Dataset, DataLoader\n",
        "\n",
        "import torchvision.transforms as transforms\n",
        "\n",
        "from PIL import Image\n",
        "from torch.nn import functional as F\n",
        "\n",
        "from sklearn.model_selection import train_test_split"
      ],
      "metadata": {
        "id": "ZHIG7c2SSu9o"
      },
      "execution_count": null,
      "outputs": []
    },
    {
      "cell_type": "code",
      "source": [
        "from google.colab import drive\n",
        "drive.mount('/content/drive')"
      ],
      "metadata": {
        "id": "AIndMKnscskX"
      },
      "execution_count": null,
      "outputs": []
    },
    {
      "cell_type": "code",
      "source": [
        "# Загрузка данных\n",
        "\n",
        "csv_path = '/content/drive/My\\ Drive/set-lipstick-original/list.csv'\n",
        "img_path = '/content/drive/My\\ Drive/set-lipstick-original/720p/'\n",
        "mask_path = '/content/drive/My\\ Drive/set-lipstick-original/mask/'"
      ],
      "metadata": {
        "id": "TZ_TKBWtZcl1"
      },
      "execution_count": null,
      "outputs": []
    },
    {
      "cell_type": "code",
      "source": [
        "df = pd.read_csv(csv_path)\n",
        "\n",
        "imgs_set = set(os.listdir(img_path))\n",
        "masks_set = set(os.listdir(mask_path))\n",
        "\n",
        "imgs_set = set(''.join(filter(lambda x: x.isdigit(), i)) for i in imgs_set)\n",
        "masks_set = set(''.join(filter(lambda x: x.isdigit(), i)) for i in masks_set)\n",
        "\n",
        "not_mask = imgs_set.difference(masks_set)\n",
        "\n",
        "not_mask = [f'image{i}.jpg' for i in not_mask]\n",
        "\n",
        "df = df.loc[~df['filename'].isin(not_mask)]\n",
        "df.reset_index(drop=True, inplace=True)\n",
        "\n",
        "df.head()"
      ],
      "metadata": {
        "id": "4OfSp5I_ZgDM"
      },
      "execution_count": null,
      "outputs": []
    },
    {
      "cell_type": "markdown",
      "source": [
        "---"
      ],
      "metadata": {
        "id": "7PP6-GjlapC1"
      }
    },
    {
      "cell_type": "code",
      "source": [
        "# class CustomDatasetFromImages\n",
        "\n",
        "class CustomDatasetFromImages(Dataset):\n",
        "    def __init__(self, data_info: pd.DataFrame, img_path, mask_path, transform=None):\n",
        "        self.data_info = data_info\n",
        "        self.data_info['filename'] = self.data_info['filename'].apply(lambda f: os.path.join(img_path, f) if os.path.exists(os.path.join(img_path, f)) else np.NaN)\n",
        "        self.data_info['mask'] = self.data_info['mask'].apply(lambda f: os.path.join(mask_path, f) if os.path.join(mask_path, f) else np.NaN)\n",
        "        self.data_info.dropna(axis=0, inplace=True)\n",
        "\n",
        "        self.img_path = [os.path.join(img_path, image_id) for image_id in sorted(os.listdir(img_path))]\n",
        "        self.mask_path = [os.path.join(mask_path, image_id) for image_id in sorted(os.listdir(mask_path))]\n",
        "        self.data_len = len(self.data_info)\n",
        "        self.transform = transform\n",
        "\n",
        "    def __getitem__(self, index):\n",
        "\n",
        "        # read images and masks\n",
        "        image = cv2.cvtColor(cv2.imread(str(self.data_info.iloc[index]['filename'])), cv2.COLOR_BGR2RGB)\n",
        "        mask = cv2.cvtColor(cv2.imread(str(self.data_info.iloc[index]['mask'])), cv2.COLOR_BGR2RGB)\n",
        "\n",
        "        image = cv2.resize(image, (256, 256))\n",
        "        mask = cv2.resize(mask, (256, 256))\n",
        "        mask = mask / 255\n",
        "\n",
        "        image = image.astype('float32')\n",
        "        mask = mask.astype('float32')\n",
        "\n",
        "        if self.transform:\n",
        "            image, mask = self.transform(image, mask)\n",
        "        \n",
        "        return transforms.ToTensor()(image.astype('float32')), transforms.ToTensor()(mask.astype('float32'))\n",
        "\n",
        "    def __len__(self):\n",
        "        return self.data_len"
      ],
      "metadata": {
        "id": "73l3Xqpqapic"
      },
      "execution_count": null,
      "outputs": []
    },
    {
      "cell_type": "code",
      "source": [
        "# Train test split\n",
        "\n",
        "X_train, X_test = train_test_split(df,test_size=0.3)\n",
        "\n",
        "X_train.reset_index(drop=True,inplace=True)\n",
        "X_test.reset_index(drop=True,inplace=True)\n",
        "\n",
        "train_data = CustomDatasetFromImages(X_train,img_path,mask_path)\n",
        "test_data = CustomDatasetFromImages(X_test,img_path,mask_path)"
      ],
      "metadata": {
        "id": "rv1ySlswawN-"
      },
      "execution_count": null,
      "outputs": []
    },
    {
      "cell_type": "code",
      "source": [
        "# Data loader\n",
        "\n",
        "train_data_loader = DataLoader(train_data,batch_size=1,shuffle = True)\n",
        "test_data_loader = DataLoader(test_data,batch_size=1,shuffle = False)\n",
        "\n",
        "for img, mask in train_data_loader:\n",
        "    print(img.shape)\n",
        "    print(mask.shape)\n",
        "    plt.imshow(np.array(img[0].permute(1,2,0),np.int32))\n",
        "    plt.show()\n",
        "    plt.imshow(mask[0].permute(1,2,0))\n",
        "    plt.show()\n",
        "\n",
        "    break"
      ],
      "metadata": {
        "id": "hAH8rQs1a_M7"
      },
      "execution_count": null,
      "outputs": []
    },
    {
      "cell_type": "code",
      "source": [
        "data = next(iter(train_data_loader))\n",
        "print(data[0].mean(), data[0].std(), data[0].shape)"
      ],
      "metadata": {
        "id": "LmCSW8iybdZG"
      },
      "execution_count": null,
      "outputs": []
    },
    {
      "cell_type": "code",
      "source": [
        "device = torch.device('cuda:0' if torch.cuda.is_available() else 'cpu')\n",
        "device"
      ],
      "metadata": {
        "id": "MjDsEAeJbgFk"
      },
      "execution_count": null,
      "outputs": []
    },
    {
      "cell_type": "code",
      "source": [
        "!pip install segmentation_models_pytorch > /dev/null"
      ],
      "metadata": {
        "id": "25EakJ9Qbjlg"
      },
      "execution_count": null,
      "outputs": []
    },
    {
      "cell_type": "code",
      "source": [
        "import segmentation_models_pytorch as smp\n",
        "from segmentation_models_pytorch import Linknet\n",
        "\n",
        "model = Linknet(encoder_name='resnet50', \n",
        "               encoder_weights='imagenet', \n",
        "               classes=1,\n",
        "               activation='sigmoid').to(device)"
      ],
      "metadata": {
        "id": "_5kgXpwQbmQN"
      },
      "execution_count": null,
      "outputs": []
    },
    {
      "cell_type": "code",
      "source": [
        "# Optimizer, criterion, metric\n",
        "\n",
        "optimizer = torch.optim.Adam(params=model.parameters(), lr=0.005)\n",
        "\n",
        "criterion = smp.utils.losses.DiceLoss()\n",
        "metric = [smp.utils.metrics.IoU(),]"
      ],
      "metadata": {
        "id": "lbka3RHBbpeK"
      },
      "execution_count": null,
      "outputs": []
    },
    {
      "cell_type": "code",
      "source": [
        "import segmentation_models_pytorch.utils as smp_utils\n",
        "\n",
        "train_epoch = smp_utils.train.TrainEpoch(model=model, \n",
        "                                         loss=criterion, \n",
        "                                         metrics=metric, \n",
        "                                         optimizer=optimizer, \n",
        "                                         device=device, \n",
        "                                         verbose=True)\n",
        "\n",
        "valid_epoch = smp_utils.train.ValidEpoch(model=model, \n",
        "                                         loss=criterion, \n",
        "                                         metrics=metric, \n",
        "                                         device=device)"
      ],
      "metadata": {
        "id": "7xaNkkYRb2Wq"
      },
      "execution_count": null,
      "outputs": []
    },
    {
      "cell_type": "code",
      "source": [
        "# Model\n",
        "\n",
        "epochs = 3\n",
        "max_score = 0\n",
        "PATH_MODEL = './best_model.pth'\n",
        "PATH_WEIGHTS = './best_weights.pth'\n",
        "score_break_value = 0.9\n",
        "\n",
        "for epoch in range(1,epochs+1):\n",
        "    print(f'Current epoch - {epoch} from {epochs}')\n",
        "    train_score = train_epoch.run(train_data_loader)\n",
        "    valid_score = valid_epoch.run(test_data_loader)\n",
        "    print(f'Next step.\\n\\n')\n",
        "    \n",
        "    if max_score < valid_score['iou_score']:\n",
        "        max_score = valid_score['iou_score']\n",
        "        torch.save(model.state_dict(), PATH_WEIGHTS)\n",
        "        torch.save(model, PATH_MODEL)\n",
        "        print('Модель сохранена!')\n",
        "        \n",
        "    if max_score > score_break_value:\n",
        "        break"
      ],
      "metadata": {
        "id": "xl_g4A-0b5yg"
      },
      "execution_count": null,
      "outputs": []
    }
  ]
}