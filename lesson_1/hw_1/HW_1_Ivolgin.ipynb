{
  "cells": [
    {
      "cell_type": "markdown",
      "source": [
        "# HW 1"
      ],
      "metadata": {
        "id": "X1uSsvk_Onlt"
      }
    },
    {
      "cell_type": "code",
      "execution_count": 10,
      "metadata": {
        "id": "_CNZn_3CofVO"
      },
      "outputs": [],
      "source": [
        "import torch\n",
        "from torch.autograd import Variable"
      ]
    },
    {
      "cell_type": "code",
      "execution_count": 2,
      "metadata": {
        "id": "QGYTKAxeofVR",
        "colab": {
          "base_uri": "https://localhost:8080/"
        },
        "outputId": "95df7474-a284-4703-c572-7e61e77424eb"
      },
      "outputs": [
        {
          "output_type": "execute_result",
          "data": {
            "text/plain": [
              "(tensor([[[1., 1., 1., 1., 1.],\n",
              "          [2., 2., 2., 2., 2.],\n",
              "          [3., 3., 3., 3., 3.],\n",
              "          [4., 4., 4., 4., 4.]],\n",
              " \n",
              "         [[1., 1., 1., 1., 1.],\n",
              "          [2., 2., 2., 2., 2.],\n",
              "          [3., 3., 3., 3., 3.],\n",
              "          [4., 4., 4., 4., 4.]],\n",
              " \n",
              "         [[1., 1., 1., 1., 1.],\n",
              "          [2., 2., 2., 2., 2.],\n",
              "          [3., 3., 3., 3., 3.],\n",
              "          [4., 4., 4., 4., 4.]]]),\n",
              " tensor([[[-2.5810,  0.9975,  1.2500,  2.0545,  0.2039],\n",
              "          [ 0.4351, -0.0522, -1.6476,  2.5855,  0.4794],\n",
              "          [ 0.1651, -1.6357, -1.4228,  0.5052, -2.2488],\n",
              "          [-0.5849,  0.1141,  0.0397, -0.7018, -1.4764]],\n",
              " \n",
              "         [[ 1.1420, -1.5193, -0.3819, -0.1860, -2.5994],\n",
              "          [-1.2136,  0.6138,  1.1191,  0.4757,  0.3974],\n",
              "          [-1.2632,  0.1561, -0.4139, -1.4023, -0.8138],\n",
              "          [ 1.1906, -0.4224, -1.3979,  1.0930, -1.3070]],\n",
              " \n",
              "         [[ 0.7758,  1.2049, -0.5016,  1.0889,  1.1607],\n",
              "          [ 1.0536,  0.6331, -0.1842, -0.6310, -2.0004],\n",
              "          [-0.1381,  0.7110,  0.4341,  0.8460, -2.2576],\n",
              "          [ 1.1998,  0.4617, -1.1932,  0.7958,  1.7078]]]))"
            ]
          },
          "metadata": {},
          "execution_count": 2
        }
      ],
      "source": [
        "# 1. Создайте случайный FloatTensor размера 3x4x5\n",
        "\n",
        "# X вручную\n",
        "x = torch.FloatTensor([[[1,1,1,1,1], \n",
        "                        [2,2,2,2,2], \n",
        "                        [3,3,3,3,3], \n",
        "                        [4,4,4,4,4]], \n",
        "                       \n",
        "                       [[1,1,1,1,1], \n",
        "                        [2,2,2,2,2], \n",
        "                        [3,3,3,3,3], \n",
        "                        [4,4,4,4,4]],\n",
        "                       \n",
        "                       [[1,1,1,1,1], \n",
        "                        [2,2,2,2,2], \n",
        "                        [3,3,3,3,3], \n",
        "                        [4,4,4,4,4]]])\n",
        "\n",
        "# y через randn\n",
        "y = torch.randn(3, 4, 5)\n",
        "\n",
        "# Проверка\n",
        "x, y"
      ]
    },
    {
      "cell_type": "code",
      "execution_count": 4,
      "metadata": {
        "id": "7GV_q8DdofVV",
        "colab": {
          "base_uri": "https://localhost:8080/"
        },
        "outputId": "77fe0d5b-bed7-40ea-8dad-5b8525f85cff"
      },
      "outputs": [
        {
          "output_type": "stream",
          "name": "stdout",
          "text": [
            "x: torch.FloatTensor torch.Size([3, 4, 5])\n",
            "y: torch.FloatTensor torch.Size([3, 4, 5])\n"
          ]
        }
      ],
      "source": [
        "# 2. Выведите его форму (shape)\n",
        "\n",
        "print('x:', x.type(), x.shape)\n",
        "print('y:', y.type(), y.shape)"
      ]
    },
    {
      "cell_type": "code",
      "execution_count": 5,
      "metadata": {
        "id": "f1OTy65FofVX",
        "colab": {
          "base_uri": "https://localhost:8080/"
        },
        "outputId": "b1c9d7fd-e124-4ef5-ccf9-0ac0206ed579"
      },
      "outputs": [
        {
          "output_type": "execute_result",
          "data": {
            "text/plain": [
              "(tensor([[1., 1., 1., 1., 1., 2., 2., 2., 2., 2.],\n",
              "         [3., 3., 3., 3., 3., 4., 4., 4., 4., 4.],\n",
              "         [1., 1., 1., 1., 1., 2., 2., 2., 2., 2.],\n",
              "         [3., 3., 3., 3., 3., 4., 4., 4., 4., 4.],\n",
              "         [1., 1., 1., 1., 1., 2., 2., 2., 2., 2.],\n",
              "         [3., 3., 3., 3., 3., 4., 4., 4., 4., 4.]]), torch.Size([6, 10]))"
            ]
          },
          "metadata": {},
          "execution_count": 5
        }
      ],
      "source": [
        "# 3. Приведите его к форме 6х10\n",
        "\n",
        "x = torch.reshape(x, [6, 10])\n",
        "\n",
        "# Проверка\n",
        "x, x.shape"
      ]
    },
    {
      "cell_type": "code",
      "execution_count": 6,
      "metadata": {
        "id": "BEVOv9_TofVe",
        "colab": {
          "base_uri": "https://localhost:8080/"
        },
        "outputId": "f686cb28-c5f8-4d24-95e0-76c5c3c0c3d4"
      },
      "outputs": [
        {
          "output_type": "execute_result",
          "data": {
            "text/plain": [
              "('torch.IntTensor',\n",
              " tensor([ 102642176,          0,         24,          0,         -1,   16843009,\n",
              "         1668444020, 1767059048, 1529374074,  824192054], dtype=torch.int32))"
            ]
          },
          "metadata": {},
          "execution_count": 6
        }
      ],
      "source": [
        "# 4. Создайте случайный IntTensor размера 10\n",
        "\n",
        "a = torch.IntTensor(10)\n",
        "\n",
        "# Проверка\n",
        "a.type(), a"
      ]
    },
    {
      "cell_type": "code",
      "source": [
        "# 5. Умножьте созданный FloatTensor на созданный IntTensor поэлементно\n",
        "\n",
        "x * a"
      ],
      "metadata": {
        "id": "TAX3DUiSa07K",
        "colab": {
          "base_uri": "https://localhost:8080/"
        },
        "outputId": "d41ad7a0-01ed-4c84-fe16-93f8412bc1d0"
      },
      "execution_count": 7,
      "outputs": [
        {
          "output_type": "execute_result",
          "data": {
            "text/plain": [
              "tensor([[ 1.0264e+08,  0.0000e+00,  2.4000e+01,  0.0000e+00, -1.0000e+00,\n",
              "          3.3686e+07,  3.3369e+09,  3.5341e+09,  3.0587e+09,  1.6484e+09],\n",
              "        [ 3.0793e+08,  0.0000e+00,  7.2000e+01,  0.0000e+00, -3.0000e+00,\n",
              "          6.7372e+07,  6.6738e+09,  7.0682e+09,  6.1175e+09,  3.2968e+09],\n",
              "        [ 1.0264e+08,  0.0000e+00,  2.4000e+01,  0.0000e+00, -1.0000e+00,\n",
              "          3.3686e+07,  3.3369e+09,  3.5341e+09,  3.0587e+09,  1.6484e+09],\n",
              "        [ 3.0793e+08,  0.0000e+00,  7.2000e+01,  0.0000e+00, -3.0000e+00,\n",
              "          6.7372e+07,  6.6738e+09,  7.0682e+09,  6.1175e+09,  3.2968e+09],\n",
              "        [ 1.0264e+08,  0.0000e+00,  2.4000e+01,  0.0000e+00, -1.0000e+00,\n",
              "          3.3686e+07,  3.3369e+09,  3.5341e+09,  3.0587e+09,  1.6484e+09],\n",
              "        [ 3.0793e+08,  0.0000e+00,  7.2000e+01,  0.0000e+00, -3.0000e+00,\n",
              "          6.7372e+07,  6.6738e+09,  7.0682e+09,  6.1175e+09,  3.2968e+09]])"
            ]
          },
          "metadata": {},
          "execution_count": 7
        }
      ]
    },
    {
      "cell_type": "code",
      "execution_count": 8,
      "metadata": {
        "id": "eUxdWlQZofVi",
        "colab": {
          "base_uri": "https://localhost:8080/"
        },
        "outputId": "35655467-a293-469d-b462-0e3fdb0ff84a"
      },
      "outputs": [
        {
          "output_type": "execute_result",
          "data": {
            "text/plain": [
              "tensor([[ 25.,  55.,  25.,  55.,  25.,  55.],\n",
              "        [ 55., 125.,  55., 125.,  55., 125.],\n",
              "        [ 25.,  55.,  25.,  55.,  25.,  55.],\n",
              "        [ 55., 125.,  55., 125.,  55., 125.],\n",
              "        [ 25.,  55.,  25.,  55.,  25.,  55.],\n",
              "        [ 55., 125.,  55., 125.,  55., 125.]])"
            ]
          },
          "metadata": {},
          "execution_count": 8
        }
      ],
      "source": [
        "# 6. Умножьте тензор матрично на себя, чтобы результат был размерности 6x6\n",
        "# Подсказка: .dot может не подойти\n",
        "\n",
        "x @ x.T"
      ]
    },
    {
      "cell_type": "code",
      "execution_count": 11,
      "metadata": {
        "id": "u3V6CsNkofVj",
        "colab": {
          "base_uri": "https://localhost:8080/"
        },
        "outputId": "acb1f410-e50e-46ff-f194-0c044318e025"
      },
      "outputs": [
        {
          "output_type": "stream",
          "name": "stdout",
          "text": [
            "Значение функции y в точке: -148.5\n",
            "Производная функции y по x в точке:  3.0\n",
            "Производная функции y по z в точке:  1.0\n",
            "Производная функции y по t в точке:  -75.0\n"
          ]
        }
      ],
      "source": [
        "# 7. Посчитайте производную функции y = x**3 + z - 75t в точке (1, 0.5, 2)\n",
        "\n",
        "x = Variable(torch.Tensor([1]), requires_grad = True) # переменная является обучаемой\n",
        "z = Variable(torch.Tensor([0.5]), requires_grad = True) # переменная является обучаемой\n",
        "t = Variable(torch.Tensor([2]), requires_grad = True) # переменная является обучаемой\n",
        "\n",
        "y = x**3 + z - 75*t\n",
        "\n",
        "# Проверка\n",
        "print('Значение функции y в точке:', y.item())\n",
        "\n",
        "y.backward() # производная по всем переменным\n",
        "\n",
        "# Проверка\n",
        "print('Производная функции y по x в точке: ', x.grad.item())\n",
        "print('Производная функции y по z в точке: ', z.grad.item())\n",
        "print('Производная функции y по t в точке: ', t.grad.item()) # частные производные"
      ]
    },
    {
      "cell_type": "code",
      "execution_count": 12,
      "metadata": {
        "id": "FzH6QkyxofVm",
        "colab": {
          "base_uri": "https://localhost:8080/"
        },
        "outputId": "a36cbf0d-c910-4b92-9a87-2380dba14334"
      },
      "outputs": [
        {
          "output_type": "execute_result",
          "data": {
            "text/plain": [
              "(tensor([[1., 1., 1., 1., 1., 1.],\n",
              "         [1., 1., 1., 1., 1., 1.],\n",
              "         [1., 1., 1., 1., 1., 1.],\n",
              "         [1., 1., 1., 1., 1., 1.],\n",
              "         [1., 1., 1., 1., 1., 1.]]), torch.Size([5, 6]))"
            ]
          },
          "metadata": {},
          "execution_count": 12
        }
      ],
      "source": [
        "# 8. Создайте единичный тензор размера 5x6\n",
        "\n",
        "e = torch.ones([5, 6])\n",
        "\n",
        "# Проверка\n",
        "e, e.shape"
      ]
    },
    {
      "cell_type": "code",
      "execution_count": 13,
      "metadata": {
        "id": "z49ttvWPofVo",
        "colab": {
          "base_uri": "https://localhost:8080/"
        },
        "outputId": "c16dbc96-83b0-46ae-e117-cf8719a7997e"
      },
      "outputs": [
        {
          "output_type": "execute_result",
          "data": {
            "text/plain": [
              "array([[1., 1., 1., 1., 1., 1.],\n",
              "       [1., 1., 1., 1., 1., 1.],\n",
              "       [1., 1., 1., 1., 1., 1.],\n",
              "       [1., 1., 1., 1., 1., 1.],\n",
              "       [1., 1., 1., 1., 1., 1.]], dtype=float32)"
            ]
          },
          "metadata": {},
          "execution_count": 13
        }
      ],
      "source": [
        "# 9. Переведите его в формат numpy\n",
        "\n",
        "e = e.numpy()\n",
        "\n",
        "# Проверка\n",
        "e"
      ]
    }
  ],
  "metadata": {
    "kernelspec": {
      "display_name": "Python 3",
      "language": "python",
      "name": "python3"
    },
    "language_info": {
      "codemirror_mode": {
        "name": "ipython",
        "version": 3
      },
      "file_extension": ".py",
      "mimetype": "text/x-python",
      "name": "python",
      "nbconvert_exporter": "python",
      "pygments_lexer": "ipython3",
      "version": "3.7.4"
    },
    "colab": {
      "name": "HW_1_Ivolgin.ipynb",
      "provenance": [],
      "collapsed_sections": []
    }
  },
  "nbformat": 4,
  "nbformat_minor": 0
}